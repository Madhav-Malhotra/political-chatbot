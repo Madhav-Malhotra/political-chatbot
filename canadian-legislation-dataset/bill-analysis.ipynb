{
 "cells": [
  {
   "cell_type": "markdown",
   "metadata": {},
   "source": [
    "# Political Chatbot Analysis: Canadian Bill Importance Evaluation\n",
    "\n",
    "This notebook performs an analysis of Canadian bills using a **text-based** approach. The goal is to evaluate the importance of each bill using **LLMs** and divide the text into smaller chunks to assess their significance in deciding whether to pass the bill."
   ]
  },
  {
   "cell_type": "code",
   "execution_count": null,
   "metadata": {
    "vscode": {
     "languageId": "plaintext"
    }
   },
   "outputs": [],
   "source": [
    "import json\n",
    "from langchain.prompts import PromptTemplate\n",
    "from langchain_openai import ChatOpenAI\n",
    "from langchain.text_splitter import RecursiveCharacterTextSplitter\n",
    "import openai\n",
    "from dotenv import load_dotenv\n",
    "import os\n",
    "from langchain.output_parsers import EnumOutputParser\n",
    "from enum import Enum\n",
    "\n",
    "load_dotenv()\n",
    "openai_api_key = os.getenv('OPENAI_API_KEY')\n",
    "openai.api_key = openai_api_key\n",
    "\n",
    "class ImportanceLevel(str, Enum):\n",
    "    LOW = \"LOW\"\n",
    "    MEDIUM = \"MEDIUM\"\n",
    "    HIGH = \"HIGH\"\n",
    "\n",
    "parser = EnumOutputParser(enum=ImportanceLevel)\n",
    "\n",
    "with open(\"canadian-legislation-dataset/detailed_bills_with_full_text.json\", \"r\", encoding=\"utf-8\") as file:\n",
    "    bills_data = json.load(file)\n",
    "\n",
    "full_text = bills_data[0]['full_text'] \n",
    "\n",
    "text_splitter = RecursiveCharacterTextSplitter(\n",
    "    chunk_size=1000,\n",
    "    chunk_overlap=200,  \n",
    "    length_function=len,  \n",
    "    is_separator_regex=False,  \n",
    ")\n",
    "\n",
    "chunks = text_splitter.split_text(full_text)\n",
    "\n",
    "llm = ChatOpenAI(model=\"gpt-4o-mini\", openai_api_key=openai_api_key, temperature=0.2)\n",
    "\n",
    "prompt_template = \"\"\"\n",
    "You are a legislative assistant tasked with analyzing sections of a bill. Your goal is to assess the importance of the given section in deciding whether the bill should be passed.\n",
    "\n",
    "Here is the section of the bill:\n",
    "{text}\n",
    "\n",
    "Classify the importance as either LOW, MEDIUM, or HIGH (respond with only one of these words):\n",
    "\"\"\"\n",
    "\n",
    "prompt = PromptTemplate(input_variables=[\"text\"], template=prompt_template)\n",
    "\n",
    "def analyze_importance(chunk):\n",
    "    formatted_prompt = prompt.format(text=chunk)\n",
    "    result = llm.invoke(formatted_prompt).content\n",
    "    importance = parser.parse(result.strip())\n",
    "    return importance\n",
    "\n",
    "importances = [analyze_importance(chunk) for chunk in chunks]\n",
    "\n",
    "for i, (chunk, importance) in enumerate(zip(chunks, importances)):\n",
    "    print(f\"\\nChunk {i+1}:\")\n",
    "    print(f\"Text preview: {chunk[:100]}...\")\n",
    "    print(f\"Importance: {importance}\")"
   ]
  }
 ],
 "metadata": {
  "language_info": {
   "name": "python"
  }
 },
 "nbformat": 4,
 "nbformat_minor": 2
}
