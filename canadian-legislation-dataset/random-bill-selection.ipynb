{
 "cells": [
  {
   "cell_type": "code",
   "execution_count": 1,
   "metadata": {},
   "outputs": [],
   "source": [
    "import json\n",
    "import random"
   ]
  },
  {
   "cell_type": "code",
   "execution_count": 9,
   "metadata": {},
   "outputs": [
    {
     "name": "stdout",
     "output_type": "stream",
     "text": [
      "{'id': 'C-230', 'title': '', 'url': 'https://openparliament.ca/bills/44-1/C-230/', 'status': 'Dead', 'subtitle': 'An Act to amend the Criminal Code (intimidation of health care professionals)', 'summary': 'This enactment amends the  Criminal Code  to make it an offence to intimidate a medical practitioner, nurse practitioner, pharmacist or other health care professional for the purpose of compelling them to take part, directly or indirectly, in the provision of medical assistance in dying.   It also makes it an offence to dismiss from employment or to refuse to employ a medical practitioner, nurse practitioner, pharmacist or other health care professional for the reason only that they refuse to take part, directly or indirectly, in the provision of medical assistance in dying.', 'full_text_url': 'https://www.parl.ca/DocumentViewer/en/11545055', 'full_text': 'ENGLISH\\nSUMMARY\\nSUMMARY\\n1 Short Title\\n1 Short Title\\n2 Criminal Code\\n2 Criminal Code\\nFirst Session,\\nForty-fourth Parliament,\\n70 Elizabeth II, 2021-2022\\nHOUSE OF COMMONS OF CANADA\\nBILL C-230\\nAn Act to amend the Criminal Code (intimidation of health care professionals)\\nFIRST READING,\\nFebruary\\n4, 2022\\nMrs. Block\\n441089\\nSUMMARY\\nThis enactment amends the\\nCriminal Code\\nto make it an offence to intimidate a medical practitioner, nurse practitioner, pharmacist or other health care professional for the purpose of compelling them to take part, directly or indirectly, in the provision of medical assistance in dying.\\nIt also makes it an offence to dismiss from employment or to refuse to employ a medical practitioner, nurse practitioner, pharmacist or other health care professional for the reason only that they refuse to take part, directly or indirectly, in the provision of medical assistance in dying.\\nAvailable on the House of Commons website at the following address:\\nwww.ourcommons.ca\\n1st Session, 44th Parliament,\\n70 Elizabeth II, 2021-2022\\nHOUSE OF COMMONS OF CANADA\\nBILL C-230\\nAn Act to amend the Criminal Code (intimidation of health care professionals)\\nPreamble\\nWhereas everyone has freedom of conscience and religion under section 2 of the\\nCanadian Charter of Rights and Freedoms\\n;\\nWhereas Parliament considers that it is in the public interest to protect the freedom of conscience of a medical practitioner, nurse practitioner, pharmacist or other health care professional who objects to taking part, directly or indirectly, in the provision of medical assistance in dying;\\nAnd whereas a regime that would require a medical practitioner, nurse practitioner, pharmacist or other health care professional to provide effective referral to patients could infringe on the freedom of conscience of health care professionals;\\nNow, therefore, Her Majesty, by and with the advice and consent of the Senate and House of Commons of Canada, enacts as follows:\\nShort Title\\nShort title\\n1\\nThis Act may be cited as the\\nProtection of Freedom of Conscience Act\\n.\\nR.\\u200dS.\\u200d, c. C-46\\nCriminal Code\\n2\\nThe\\nCriminal Code\\nis amended by adding the following after section\\n241.\\u200d2\\n:\\nIntimidation\\nStart of inserted block\\n241.\\u200d21\\n(\\n1\\n)\\nEvery person who, for the purpose of compelling a medical practitioner, nurse practitioner, pharmacist or other health care professional to take part,\\ndirectly\\nor indirectly, in the provision of medical assistance in dying, uses coercion or any other form of intimidation is guilty of an offence punishable on summary conviction.\\nEnd of inserted block\\nEmployers\\nStart of inserted block\\n(\\n2\\n)\\nEvery person who refuses to employ, or dismisses from their employment, a medical practitioner, nurse practitioner, pharmacist or other health care professional for the reason only that they refuse to take part, directly or indirectly, in the provision of medical assist\\xadance in dying is guilty of an offence punishable on summary conviction.\\nEnd of inserted block\\nPublished under authority of the Speaker of the House of Commons'}\n"
     ]
    }
   ],
   "source": [
    "# load the bill data\n",
    "with open(\"detailed_bills_with_full_text.json\", \"r\", encoding=\"utf-8\") as file:\n",
    "    bills_data = json.load(file)\n",
    "\n",
    "random_bill = random.choice(bills_data)\n",
    "print(random_bill)"
   ]
  }
 ],
 "metadata": {
  "kernelspec": {
   "display_name": "Python 3",
   "language": "python",
   "name": "python3"
  },
  "language_info": {
   "codemirror_mode": {
    "name": "ipython",
    "version": 3
   },
   "file_extension": ".py",
   "mimetype": "text/x-python",
   "name": "python",
   "nbconvert_exporter": "python",
   "pygments_lexer": "ipython3",
   "version": "3.12.8"
  }
 },
 "nbformat": 4,
 "nbformat_minor": 2
}
